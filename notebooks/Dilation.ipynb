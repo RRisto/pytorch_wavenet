{
 "cells": [
  {
   "cell_type": "code",
   "execution_count": 5,
   "metadata": {},
   "outputs": [],
   "source": [
    "import torch\n",
    "from torch.autograd import Variable\n",
    "import numpy as np\n",
    "import torch.nn as nn\n",
    "\n",
    "# from ..wavenet_modules import constant_pad_1d"
   ]
  },
  {
   "cell_type": "markdown",
   "metadata": {},
   "source": [
    "## Helpers"
   ]
  },
  {
   "cell_type": "code",
   "execution_count": 6,
   "metadata": {},
   "outputs": [],
   "source": [
    "class ConstantPad1d(nn.Module):\n",
    "    def __init__(self, target_size, dimension=0, value=0, pad_start=False):\n",
    "        super(ConstantPad1d, self).__init__()\n",
    "        self.target_size = target_size\n",
    "        self.dimension = dimension\n",
    "        self.value = value\n",
    "        self.pad_start = pad_start\n",
    "\n",
    "    def forward(self, input):\n",
    "        self.num_pad = self.target_size - input.size(self.dimension)\n",
    "        assert self.num_pad >= 0, 'target size has to be greater than input size'\n",
    "\n",
    "        self.input_size = input.size()\n",
    "\n",
    "        size = list(input.size())\n",
    "        size[self.dimension] = self.target_size\n",
    "        output = input.new(*tuple(size)).fill_(self.value)\n",
    "        c_output = output\n",
    "\n",
    "        # crop output\n",
    "        if self.pad_start:\n",
    "            c_output = c_output.narrow(self.dimension, self.num_pad, c_output.size(self.dimension) - self.num_pad)\n",
    "        else:\n",
    "            c_output = c_output.narrow(self.dimension, 0, c_output.size(self.dimension) - self.num_pad)\n",
    "\n",
    "        c_output.copy_(input)\n",
    "        return output\n",
    "\n",
    "    def backward(self, grad_output):\n",
    "        grad_input = grad_output.new(*self.input_size).zero_()\n",
    "        cg_output = grad_output\n",
    "\n",
    "        # crop grad_output\n",
    "        if self.pad_start:\n",
    "            cg_output = cg_output.narrow(self.dimension, self.num_pad, cg_output.size(self.dimension) - self.num_pad)\n",
    "        else:\n",
    "            cg_output = cg_output.narrow(self.dimension, 0, cg_output.size(self.dimension) - self.num_pad)\n",
    "\n",
    "        grad_input.copy_(cg_output)\n",
    "        return grad_input\n",
    "\n",
    "\n",
    "def constant_pad_1d(input,\n",
    "                    target_size,\n",
    "                    dimension=0,\n",
    "                    value=0,\n",
    "                    pad_start=False):\n",
    "    padding_cls = ConstantPad1d(target_size, dimension, value, pad_start)\n",
    "    return padding_cls(input)"
   ]
  },
  {
   "cell_type": "markdown",
   "metadata": {},
   "source": [
    "## Example"
   ]
  },
  {
   "cell_type": "code",
   "execution_count": 8,
   "metadata": {},
   "outputs": [
    {
     "name": "stdout",
     "output_type": "stream",
     "text": [
      "tensor([[[ 0.,  1.,  2.,  3.,  4.,  5.,  6.,  7.],\n",
      "         [ 8.,  9., 10., 11., 12., 13., 14., 15.],\n",
      "         [16., 17., 18., 19., 20., 21., 22., 23.]]])\n"
     ]
    }
   ],
   "source": [
    "t = Variable(torch.linspace(0, 23, steps=24).view(1, 3, 8))\n",
    "print(t)"
   ]
  },
  {
   "cell_type": "code",
   "execution_count": 11,
   "metadata": {},
   "outputs": [
    {
     "data": {
      "text/plain": [
       "torch.Size([1, 3, 8])"
      ]
     },
     "execution_count": 11,
     "metadata": {},
     "output_type": "execute_result"
    }
   ],
   "source": [
    "t.size()"
   ]
  },
  {
   "cell_type": "code",
   "execution_count": 10,
   "metadata": {},
   "outputs": [
    {
     "name": "stdout",
     "output_type": "stream",
     "text": [
      "dilation factor 2.0\n",
      "first transpose:  tensor([[[ 0.],\n",
      "         [ 1.],\n",
      "         [ 2.],\n",
      "         [ 3.],\n",
      "         [ 4.],\n",
      "         [ 5.],\n",
      "         [ 6.],\n",
      "         [ 7.]],\n",
      "\n",
      "        [[ 8.],\n",
      "         [ 9.],\n",
      "         [10.],\n",
      "         [11.],\n",
      "         [12.],\n",
      "         [13.],\n",
      "         [14.],\n",
      "         [15.]],\n",
      "\n",
      "        [[16.],\n",
      "         [17.],\n",
      "         [18.],\n",
      "         [19.],\n",
      "         [20.],\n",
      "         [21.],\n",
      "         [22.],\n",
      "         [23.]]])\n",
      "view change:  tensor([[[ 0.,  1.],\n",
      "         [ 2.,  3.],\n",
      "         [ 4.,  5.],\n",
      "         [ 6.,  7.]],\n",
      "\n",
      "        [[ 8.,  9.],\n",
      "         [10., 11.],\n",
      "         [12., 13.],\n",
      "         [14., 15.]],\n",
      "\n",
      "        [[16., 17.],\n",
      "         [18., 19.],\n",
      "         [20., 21.],\n",
      "         [22., 23.]]])\n",
      "second transpose:  tensor([[[ 0.,  2.,  4.,  6.],\n",
      "         [ 8., 10., 12., 14.],\n",
      "         [16., 18., 20., 22.]],\n",
      "\n",
      "        [[ 1.,  3.,  5.,  7.],\n",
      "         [ 9., 11., 13., 15.],\n",
      "         [17., 19., 21., 23.]]])\n",
      "tensor([[[ 0.,  2.,  4.,  6.],\n",
      "         [ 8., 10., 12., 14.],\n",
      "         [16., 18., 20., 22.]],\n",
      "\n",
      "        [[ 1.,  3.,  5.,  7.],\n",
      "         [ 9., 11., 13., 15.],\n",
      "         [17., 19., 21., 23.]]])\n"
     ]
    }
   ],
   "source": [
    "def dilate(x, dilation):\n",
    "    [n, c, l] = x.size()\n",
    "    dilation_factor = dilation / n\n",
    "    print(f'dilation factor {dilation_factor}')\n",
    "    if dilation == n:\n",
    "        return x\n",
    "\n",
    "    # zero padding for reshaping\n",
    "    new_l = int(np.ceil(l / dilation_factor) * dilation_factor)\n",
    "    if new_l != l:\n",
    "        l = new_l\n",
    "        x = constant_pad_1d(x, new_l, dimension=2, pad_start=True)\n",
    "\n",
    "    # reshape according to dilation\n",
    "    x = x.permute(1, 2, 0).contiguous()\n",
    "    print(\"first transpose: \", x)\n",
    "    \n",
    "    l = (l * n) // dilation\n",
    "    n = dilation\n",
    "    \n",
    "    x = x.view(c, l, n)\n",
    "    print(\"view change: \", x)\n",
    "    \n",
    "    x = x.permute(2, 0, 1)\n",
    "    #x = x.transpose(1, 2).transpose(0, 2).contiguous()\n",
    "    print(\"second transpose: \", x)\n",
    "\n",
    "    return x\n",
    "\n",
    "r = dilate(t, 2)\n",
    "print(r)"
   ]
  },
  {
   "cell_type": "code",
   "execution_count": 49,
   "metadata": {},
   "outputs": [
    {
     "name": "stdout",
     "output_type": "stream",
     "text": [
      "first transpose:  Variable containing:\n",
      "(0 ,.,.) = \n",
      "   0   1\n",
      "   2   3\n",
      "   4   5\n",
      "   6   7\n",
      "\n",
      "(1 ,.,.) = \n",
      "   8   9\n",
      "  10  11\n",
      "  12  13\n",
      "  14  15\n",
      "\n",
      "(2 ,.,.) = \n",
      "  16  17\n",
      "  18  19\n",
      "  20  21\n",
      "  22  23\n",
      "[torch.FloatTensor of size 3x4x2]\n",
      "\n",
      "view change:  Variable containing:\n",
      "(0 ,.,.) = \n",
      "   0   1   2   3\n",
      "   4   5   6   7\n",
      "\n",
      "(1 ,.,.) = \n",
      "   8   9  10  11\n",
      "  12  13  14  15\n",
      "\n",
      "(2 ,.,.) = \n",
      "  16  17  18  19\n",
      "  20  21  22  23\n",
      "[torch.FloatTensor of size 3x2x4]\n",
      "\n",
      "second transpose:  Variable containing:\n",
      "(0 ,.,.) = \n",
      "   0   4\n",
      "   8  12\n",
      "  16  20\n",
      "\n",
      "(1 ,.,.) = \n",
      "   1   5\n",
      "   9  13\n",
      "  17  21\n",
      "\n",
      "(2 ,.,.) = \n",
      "   2   6\n",
      "  10  14\n",
      "  18  22\n",
      "\n",
      "(3 ,.,.) = \n",
      "   3   7\n",
      "  11  15\n",
      "  19  23\n",
      "[torch.FloatTensor of size 4x3x2]\n",
      "\n",
      "Variable containing:\n",
      "(0 ,.,.) = \n",
      "   0   4\n",
      "   8  12\n",
      "  16  20\n",
      "\n",
      "(1 ,.,.) = \n",
      "   1   5\n",
      "   9  13\n",
      "  17  21\n",
      "\n",
      "(2 ,.,.) = \n",
      "   2   6\n",
      "  10  14\n",
      "  18  22\n",
      "\n",
      "(3 ,.,.) = \n",
      "   3   7\n",
      "  11  15\n",
      "  19  23\n",
      "[torch.FloatTensor of size 4x3x2]\n",
      "\n"
     ]
    }
   ],
   "source": [
    "r2 = dilate(r, 4)\n",
    "print(r2)"
   ]
  },
  {
   "cell_type": "code",
   "execution_count": null,
   "metadata": {
    "collapsed": true
   },
   "outputs": [],
   "source": []
  }
 ],
 "metadata": {
  "kernelspec": {
   "display_name": "Python 3",
   "language": "python",
   "name": "python3"
  },
  "language_info": {
   "codemirror_mode": {
    "name": "ipython",
    "version": 3
   },
   "file_extension": ".py",
   "mimetype": "text/x-python",
   "name": "python",
   "nbconvert_exporter": "python",
   "pygments_lexer": "ipython3",
   "version": "3.7.4"
  }
 },
 "nbformat": 4,
 "nbformat_minor": 1
}
